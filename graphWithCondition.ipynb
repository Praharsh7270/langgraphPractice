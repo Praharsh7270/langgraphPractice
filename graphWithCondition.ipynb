{
 "cells": [
  {
   "cell_type": "code",
   "execution_count": 6,
   "id": "a02bd063",
   "metadata": {},
   "outputs": [],
   "source": [
    "from typing import TypedDict, Literal\n",
    "\n",
    "class Portfolio(TypedDict):\n",
    "    \"\"\"\n",
    "    Represents a portfolio with a name and a list of stock symbols.\n",
    "    \"\"\"\n",
    "    amount_used: float\n",
    "    total_usd: float\n",
    "    total_currency: Literal['EUR', 'INR']\n",
    "    total: float"
   ]
  },
  {
   "cell_type": "code",
   "execution_count": 33,
   "id": "c6a8f16f",
   "metadata": {},
   "outputs": [],
   "source": [
    "def calc_total (state:Portfolio) -> Portfolio:\n",
    "    state['total_usd'] = state['amount_used'] * 1.08 # Assuming a conversion rate of 1.0 for USD\n",
    "    return state\n",
    "\n",
    "def calc_total_inr (state:Portfolio) -> Portfolio:\n",
    "    state['total'] = state['total_usd'] * 82.0 # Assuming a conversion rate of 82.0 for INR\n",
    "    return state\n",
    "\n",
    "def calc_total_eur (state:Portfolio) -> Portfolio:\n",
    "    state['total'] = state['total_usd'] * 8.0 # Assuming a conversion rate of 82.0 for INR\n",
    "    return state\n",
    "\n",
    "def choose(state : Portfolio) -> str:\n",
    "    return state[\"total_currency\"]"
   ]
  },
  {
   "cell_type": "code",
   "execution_count": 34,
   "id": "088aeedf",
   "metadata": {},
   "outputs": [],
   "source": [
    "from langgraph.graph import StateGraph, START,END\n",
    "\n",
    "builder = StateGraph(Portfolio)\n",
    "\n",
    "builder.add_node(\n",
    "    \"calc_total\",\n",
    "    calc_total,\n",
    ")\n",
    "\n",
    "builder.add_node(\n",
    "    \"calc_total_inr\",\n",
    "    calc_total_inr,\n",
    ")\n",
    "\n",
    "builder.add_node(\n",
    "    \"calc_total_eur\",\n",
    "    calc_total_eur,\n",
    ")\n",
    "\n",
    "\n",
    "builder.add_edge(START, \"calc_total\")\n",
    "builder.add_conditional_edges(\n",
    "    \"calc_total\",\n",
    "    choose,\n",
    "    {\n",
    "        \"INR\": \"calc_total_inr\",\n",
    "        \"EUR\": \"calc_total_eur\",\n",
    "    }\n",
    ")\n",
    "builder.add_edge(\"calc_total_inr\", END)\n",
    "builder.add_edge(\"calc_total_eur\", END)\n",
    "\n",
    "graph = builder.compile()\n"
   ]
  },
  {
   "cell_type": "code",
   "execution_count": 35,
   "id": "9f7331ce",
   "metadata": {},
   "outputs": [
    {
     "data": {
      "image/png": "[encoded data removed]",
      "text/plain": [
       "<IPython.core.display.Image object>"
      ]
     },
     "metadata": {},
     "output_type": "display_data"
    }
   ],
   "source": [
    "from IPython.display import display, Image\n",
    "\n",
    "display(Image(graph.get_graph().draw_mermaid_png()))"
   ]
  },
  {
   "cell_type": "code",
   "execution_count": 36,
   "id": "c7eec5e6",
   "metadata": {},
   "outputs": [
    {
     "data": {
      "text/plain": [
       "{'amount_used': 1000.0,\n",
       " 'total_usd': 1080.0,\n",
       " 'total_currency': 'INR',\n",
       " 'total': 88560.0}"
      ]
     },
     "execution_count": 36,
     "metadata": {},
     "output_type": "execute_result"
    }
   ],
   "source": [
    "graph.invoke({\"amount_used\": 1000.0, \"total_currency\": \"INR\"})"
   ]
  },
  {
   "cell_type": "code",
   "execution_count": null,
   "id": "a1f9b2cb",
   "metadata": {},
   "outputs": [],
   "source": []
  }
 ],
 "metadata": {
  "kernelspec": {
   "display_name": "langgraph",
   "language": "python",
   "name": "python3"
  },
  "language_info": {
   "codemirror_mode": {
    "name": "ipython",
    "version": 3
   },
   "file_extension": ".py",
   "mimetype": "text/x-python",
   "name": "python",
   "nbconvert_exporter": "python",
   "pygments_lexer": "ipython3",
   "version": "3.10.9"
  }
 },
 "nbformat": 4,
 "nbformat_minor": 5
}
